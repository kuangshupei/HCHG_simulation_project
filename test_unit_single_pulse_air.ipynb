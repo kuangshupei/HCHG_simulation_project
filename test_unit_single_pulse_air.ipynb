{
 "cells": [
  {
   "cell_type": "markdown",
   "id": "03418d89-98b3-4623-97a0-915e9cc246f0",
   "metadata": {},
   "source": [
    "### Test the physical units, single fundamental 1035nm pulse in, static field, gas absent (vacuum, zero pressure):"
   ]
  },
  {
   "cell_type": "code",
   "execution_count": 2,
   "id": "5a67b142-e672-4e02-82d0-98d55355316e",
   "metadata": {},
   "outputs": [],
   "source": [
    "import numpy as np\n",
    "import matplotlib.pyplot as plt\n",
    "import pynlo\n",
    "from scipy import constants"
   ]
  },
  {
   "cell_type": "code",
   "execution_count": 3,
   "id": "b22b2716-1392-49eb-a91a-1d7b4bd57c8f",
   "metadata": {},
   "outputs": [],
   "source": [
    "def photonEnergyGrid(pulse):\n",
    "    \"\"\"\n",
    "    Convert the grid corresponding to the complex electric field in frequency\n",
    "    domain from angular frequency to photon energy in eV.\n",
    "    \n",
    "    Photon energy:\n",
    "    E[J] = hbar * w = h * v\n",
    "    E[eV] = E[J] / e\n",
    "    \n",
    "    Input(s):\n",
    "    pulse: a pulse instance on which the conversion is performed.\n",
    "    Output(s):\n",
    "    W_eV: photon energy grid [eV].\n",
    "    \"\"\"\n",
    "    \n",
    "    W_eV = constants.h * pulse.F_mks / constants.e\n",
    "    \n",
    "    return W_eV\n",
    "\n",
    "class GasPropertyBuilder:\n",
    "    \n",
    "    def __init__(self, fiber_length, fiber_radius, fiber_wavelength, pulse_wavelength, n2_at_one_bar, betas_at_one_bar,  \n",
    "                 constant_pressure=None, pressure_boundary=None, differential_pumping=False):\n",
    "        \n",
    "        assert (constant_pressure is not None) if not differential_pumping else True, \\\n",
    "        \"A constant gas pressure is expected for non-differential pumping scheme.\"\n",
    "        assert (pressure_boundary is not None) if differential_pumping else True, \\\n",
    "        \"A list containing the boundary values of the gas pressure at both input \\\n",
    "        and output surface of the fiber is expected for differential pumping scheme.\"\n",
    "        \n",
    "        self.fiber_len = fiber_length\n",
    "        self.fiber_rad = fiber_radius\n",
    "        self.fibWL = fiber_wavelength\n",
    "        self.pulseWL = pulse_wavelength\n",
    "        \n",
    "        if differential_pumping:\n",
    "            if len(pressure_boundary) != 2:\n",
    "                print(\"A list containing the boundary values of the gas pressure at both input \\\n",
    "                and output surface of the fiber is expected for differential pumping scheme.\")\n",
    "            self.pressure_entr = pressure_boundary[0]\n",
    "            self.pressure_exit = pressure_boundary[1]\n",
    "        else:\n",
    "            self.const_pressure = constant_pressure\n",
    "        \n",
    "        self.n2_at_one_bar = n2_at_one_bar\n",
    "        self.betas_at_one_bar = betas_at_one_bar\n",
    "        self.differential_pumping = differential_pumping\n",
    "        \n",
    "    def torrToBar(self, pressure_Torr):\n",
    "        \"\"\"\n",
    "        Unit conversion for gas pressure from torr to bar.\n",
    "        \n",
    "        1 torr is defined as exactly 1/760 of a standard atmosphere (1 atm = 101325 Pa), \n",
    "        1 pascal is equal to 1e-5 bar.\n",
    "\n",
    "        Input(s):\n",
    "        pressure_Torr: gas pressure [Torr]\n",
    "        Output(s):\n",
    "        pressure_Bar: gas pressure [Bar]\n",
    "        \"\"\"\n",
    "        \n",
    "        pressure_Pa = pressure_Torr * (101325/760)\n",
    "        pressure_Bar = pressure_Pa * 1e-5\n",
    "        \n",
    "        return pressure_Bar\n",
    "\n",
    "    def pressureDistribution(self, z=None):\n",
    "        \"\"\"\n",
    "        Generate gas pressure distribution along the fiber under differential pumping.\n",
    "\n",
    "        Reference: \n",
    "        Suda, Akira, et al.\n",
    "        “Generation of Sub-10-Fs, 5-mJ-Optical Pulses Using a Hollow Fiber with a Pressure Gradient.”\n",
    "        Applied Physics Letters, vol. 86, no. 11, 2005, https://doi.org/10.1063/1.1883706.\n",
    "        \n",
    "        Input(s):\n",
    "        z: position grid along the fiber [m].\n",
    "        fiber_len: length of the fiber [m].\n",
    "        pressure_entr: gas pressure at the entrance [Torr].\n",
    "        pressure_exit: gas pressure at the exit [Torr].\n",
    "        Output(s):\n",
    "        pressure_dist: gas pressure distribution along the fiber [Bar].\n",
    "        \"\"\"\n",
    "        if self.differential_pumping:\n",
    "            pressure_entr = self.torrToBar(self.pressure_entr)\n",
    "            pressure_exit = self.torrToBar(self.pressure_exit)\n",
    "            pressure_dist = np.sqrt(pressure_entr**2 + (z/self.fiber_len) * (pressure_exit**2 - pressure_entr**2))\n",
    "        else:\n",
    "            pressure_dist = self.torrToBar(self.const_pressure)\n",
    "\n",
    "        return pressure_dist\n",
    "        \n",
    "    def dispersionFunction(self, z=None):\n",
    "        \"\"\"\n",
    "        Generate the fiber dispersion that can vary as a function of the length z along the fiber \n",
    "        for differential pumping, return a tuple of beta coefficients as a function of z.\n",
    "        \n",
    "        Input(s):\n",
    "        pressure_dist: gas pressure distribution along the fiber [Bar].\n",
    "        betas_at_one_bar: a list of beta coefficients (i.e. [beta2, beta3, beta4]) specified at 1 bar [ps^n/km].\n",
    "        Output(s):\n",
    "        betas: a tuple of beta coefficients as a function of z [ps^n/m].\n",
    "        \"\"\"\n",
    "\n",
    "        if self.differential_pumping:\n",
    "            pressure_dist = self.pressureDistribution(z)\n",
    "        else:\n",
    "            pressure_dist = self.pressureDistribution()\n",
    "            \n",
    "        betas = [beta * (1/1e3) * pressure_dist for beta in self.betas_at_one_bar]\n",
    "        \n",
    "        return tuple(betas)\n",
    "    \n",
    "    def nonlinearIndexN2(self, z=None):\n",
    "        \"\"\"\n",
    "        Calculate the nonlinear refractive index n2, return a constant for non-differential pumping, \n",
    "        or a distribution along the fiber for differential pumping.\n",
    "\n",
    "        Input(s):\n",
    "        pressure_dist: gas pressure distribution along the fiber under differential pumping [Bar].\n",
    "        const_pressure: constant gas pressure for non-differential pumping [Bar].\n",
    "        n2_at_one_bar: nonlinear refractive index of the gas reported at 1 bar [m^2/(W bar)].\n",
    "        Output(s):\n",
    "        n2: nonlinear refractive index at the specified pressure [m^2/W].\n",
    "        \"\"\"\n",
    "        \n",
    "        assert (z is None) if not self.differential_pumping else True, \\\n",
    "        \"A position grid is not needed for non-differential pumping.\"\n",
    "        assert (z is not None) if self.differential_pumping else True, \\\n",
    "        \"A position grid is needed for differential pumping.\"\n",
    "        \n",
    "        if self.differential_pumping:\n",
    "            pressure_dist = self.pressureDistribution(z)\n",
    "        else:\n",
    "            pressure_dist = self.pressureDistribution()\n",
    "        \n",
    "        n2 = pressure_dist * self.n2_at_one_bar\n",
    "        \n",
    "        return n2\n",
    "        \n",
    "    def gammaDistribution(self, z=None):\n",
    "        \"\"\"\n",
    "        Calculate the nonlinear parameter Gamma using Gamma=(n2*w0)/(c*A_eff), return a constant \n",
    "        for non-differential pumping, or a distribution along the fiber for differential pumping. \n",
    "        Reference: Agrawal, Govind. Nonlinear Fiber Optics. Sixth edition., Academic Press, 2019.\n",
    "        \n",
    "        c: speed of light in vacuum [m/s].\n",
    "        w0: angular frequency [rad/s].\n",
    "        A_eff: effective core area of the fiber [m^2].\n",
    "\n",
    "        Input(s):\n",
    "        n2: nonlinear refractive index at the specified pressure [m^2/W].\n",
    "        pulseWL: pulse central wavelength [nm].\n",
    "        fiber_rad: radius of fiber [m].\n",
    "        Output(s):\n",
    "        Gamma: nonlinear parameter [1/(W m)]\n",
    "        \"\"\"\n",
    "        \n",
    "        assert (z is None) if not self.differential_pumping else True, \\\n",
    "        \"A position grid is not needed for non-differential pumping.\"\n",
    "        assert (z is not None) if self.differential_pumping else True, \\\n",
    "        \"A position grid is needed for differential pumping.\"\n",
    "        \n",
    "        w0 = (2*np.pi*constants.c) / (self.pulseWL*1e-9)\n",
    "        A_eff = np.pi * self.fiber_rad**2\n",
    "        \n",
    "        if self.differential_pumping:\n",
    "            n2 = self.nonlinearIndexN2(z)\n",
    "        else:\n",
    "            n2 = self.nonlinearIndexN2()\n",
    "            \n",
    "        Gamma = (n2*w0) / (constants.c*A_eff)\n",
    "        \n",
    "        return Gamma\n"
   ]
  },
  {
   "cell_type": "code",
   "execution_count": 4,
   "id": "b992e176-63bc-47e6-a90f-c837ba5fdd69",
   "metadata": {},
   "outputs": [],
   "source": [
    "# pulse parameters\n",
    "FWHM = 0.16         # pulse duration [ps]\n",
    "pulseWL = 1035      # pulse central wavelength [nm]\n",
    "EPP = 2e-6          # Energy per pulse [J]\n",
    "GDD = 0.0           # Group delay dispersion [ps^2]\n",
    "TOD = 0.0           # Third order dispersion [ps^3]\n",
    "\n",
    "# fibre parameters\n",
    "Length = 100        # fiber length [mm]\n",
    "Alpha = 0.0         # attentuation coefficient [dB/cm]\n",
    "fiber_rad = 15e-6   # radius [m]\n",
    "fibWL = pulseWL     # center wavelength of fiber [nm]\n",
    "alpha = np.log((10**(Alpha * 0.1))) * 100  # convert from dB/cm to 1/m\n",
    "\n",
    "# dispersive coefficients (betas) and pressure-dependent nonlinear refractive index (n2) for Xenon specified at 800 nm at 1 bar\n",
    "# reference: Couairon, Arnaud, et al. “From Single-Cycle Self-Compressed Filaments to Isolated Attosecond Pulses in Noble Gases.” \n",
    "#            Physical Review. A, Atomic, Molecular, and Optical Physics, vol. 77, no. 5, 2008, https://doi.org/10.1103/PhysRevA.77.053814\n",
    "beta2 = 0                         # [fs^2/(cm bar)]\n",
    "beta3 = 0                         # [fs^3/(cm bar)]\n",
    "beta4 = 0                         # [fs^4/(cm bar)]\n",
    "n2_Xe_at_one_bar = 0              # [m^2/(W bar)]\n",
    "\n",
    "beta2 *= (1e-3)**2 / 1e-5         # [ps^2/(km bar)]\n",
    "beta3 *= (1e-3)**3 / 1e-5         # [ps^3/(km bar)]\n",
    "beta4 *= (1e-3)**4 / 1e-5         # [ps^4/(km bar)]\n",
    "betas_at_one_bar = [beta2, beta3, beta4]\n",
    "\n",
    "# simulation parameters\n",
    "Window = 5        # simulation window [ps]\n",
    "Steps = 10        # simulation steps\n",
    "Points = 2**16    # simulation points\n",
    "Raman = True      # Enable Raman effect?\n",
    "Steep = True      # Enable self steepening?\n",
    "\n",
    "gasbuilder = GasPropertyBuilder(fiber_length=Length*1e-3, fiber_radius=fiber_rad, fiber_wavelength=fibWL, pulse_wavelength=pulseWL, betas_at_one_bar=betas_at_one_bar, constant_pressure=0, \n",
    "                                pressure_boundary=None, n2_at_one_bar=n2_Xe_at_one_bar, differential_pumping=False)\n",
    "\n",
    "# create the fiber\n",
    "fiber = pynlo.media.fibers.fiber.FiberInstance()\n",
    "fiber.generate_fiber(Length * 1e-3, center_wl_nm=fibWL, betas=gasbuilder.dispersionFunction(),\n",
    "                              gamma_W_m=gasbuilder.gammaDistribution(), gain=-alpha)\n"
   ]
  },
  {
   "cell_type": "code",
   "execution_count": 5,
   "id": "923796be-0381-48ea-ad64-5e96556143ad",
   "metadata": {},
   "outputs": [],
   "source": [
    "# create the fundamental pulse\n",
    "pulse_FD = pynlo.light.DerivedPulses.SechPulse(\n",
    "    1, FWHM/1.76, pulseWL, time_window_ps=Window,\n",
    "    GDD=GDD, TOD=TOD, NPTS=Points, frep_MHz=1, power_is_avg=True\n",
    ")\n",
    "pulse_FD = pulse_FD.interpolate_to_new_center_wl(pulseWL/3)\n",
    "pulse_FD.set_epp(EPP)\n",
    "\n",
    "# create the second harmonic pulse\n",
    "pulse_SH = pynlo.light.DerivedPulses.SechPulse(\n",
    "    1, FWHM/1.76, pulseWL/2, time_window_ps=Window,\n",
    "    GDD=GDD, TOD=TOD, NPTS=Points, frep_MHz=1, power_is_avg=True\n",
    ")\n",
    "pulse_SH = pulse_SH.interpolate_to_new_center_wl(pulseWL/3)\n",
    "pulse_SH.set_epp(EPP)\n",
    "\n",
    "pulse = pynlo.light.PulseBase.Pulse()\n",
    "pulse.set_NPTS(Points)\n",
    "pulse.set_time_window_ps(Window)\n",
    "pulse.set_center_wavelength_nm(fibWL)\n",
    "pulse.set_AW(pulse_FD.AW + pulse_SH.AW)\n",
    "\n",
    "# propagation\n",
    "evol = pynlo.interactions.FourWaveMixing.SSFM.SSFM(local_error=0.001, USE_SIMPLE_RAMAN=True,\n",
    "                 disable_Raman=np.logical_not(Raman),\n",
    "                 disable_self_steepening=np.logical_not(Steep))\n",
    "\n",
    "y, AW, AT, pulse_out = evol.propagate(pulse_in=pulse_FD, fiber=fiber, n_steps=Steps, reload_fiber_each_step=False)\n"
   ]
  },
  {
   "cell_type": "code",
   "execution_count": 6,
   "id": "5fa28821-286f-41b5-a81c-4f4a2d463d9c",
   "metadata": {},
   "outputs": [
    {
     "name": "stdout",
     "output_type": "stream",
     "text": [
      "(65536,) [-5684.63635362 -5684.43635362 -5684.23635362 ...  7421.96364638\n",
      "  7422.16364638  7422.36364638] 7422.363646376811 -5684.636353623189\n",
      "(65536,) [-5684.63635362 -5684.43635362 -5684.23635362 ...  7421.96364638\n",
      "  7422.16364638  7422.36364638] 7422.363646376811 -5684.636353623189\n",
      "(65536,) [-6263.94545121 -6263.74545121 -6263.54545121 ...  6842.65454879\n",
      "  6842.85454879  6843.05454879] 6843.054548792271 -6263.945451207729\n",
      "(65536,) [-5684.63635362 -5684.43635362 -5684.23635362 ...  7421.96364638\n",
      "  7422.16364638  7422.36364638] 7422.363646376811 -5684.636353623189\n"
     ]
    }
   ],
   "source": [
    "print(pulse_FD.F_THz.shape, pulse_FD.F_THz, pulse_FD.F_THz.max(), pulse_FD.F_THz.min())\n",
    "print(pulse_SH.F_THz.shape, pulse_SH.F_THz, pulse_SH.F_THz.max(), pulse_SH.F_THz.min())\n",
    "print(pulse.F_THz.shape, pulse.F_THz, pulse.F_THz.max(), pulse.F_THz.min())\n",
    "print(pulse_out.F_THz.shape, pulse_out.F_THz, pulse_out.F_THz.max(), pulse_out.F_THz.min())\n"
   ]
  },
  {
   "cell_type": "code",
   "execution_count": 7,
   "id": "422196aa-77f1-403f-adf1-a60dfa7c2f10",
   "metadata": {},
   "outputs": [
    {
     "name": "stdout",
     "output_type": "stream",
     "text": [
      "200000000000.01318 200000000000.01318 200000000000.64978 200000000000.01318\n"
     ]
    }
   ],
   "source": [
    "print(pulse_FD.dF_mks, pulse_SH.dF_mks, pulse.dF_mks, pulse_out.dF_mks)"
   ]
  },
  {
   "cell_type": "code",
   "execution_count": 8,
   "id": "1f677909-aa87-404d-8222-5b026315c536",
   "metadata": {},
   "outputs": [],
   "source": [
    "def calc_FWHM(pulse):\n",
    "\n",
    "    time_grid = pulse.T_ps\n",
    "    intensity_temporal = np.abs(pulse.AT)**2\n",
    "    intensity_temporal_normalised = intensity_temporal / np.max(intensity_temporal)\n",
    "    FWHM_filter = np.where(intensity_temporal_normalised > 0.5)[0]\n",
    "    if len(FWHM_filter) >= 2:\n",
    "        FWHM = time_grid[FWHM_filter[-1]] - time_grid[FWHM_filter[0]]\n",
    "        return FWHM\n",
    "    else:\n",
    "        print(\"Pulse does not have a well-defined FWHM.\")"
   ]
  },
  {
   "cell_type": "code",
   "execution_count": 11,
   "id": "f4b3c60f-c2c1-4f17-9ac0-c1a48aef2ad2",
   "metadata": {},
   "outputs": [
    {
     "data": {
      "image/png": "[encoded data removed]",
      "text/plain": [
       "<Figure size 740x390 with 1 Axes>"
      ]
     },
     "metadata": {},
     "output_type": "display_data"
    }
   ],
   "source": [
    "F = (pulse_FD.W_mks / (2*np.pi)) * 1e-12 # convert to THz\n",
    "E_eV = photonEnergyGrid(pulse_FD)\n",
    "\n",
    "intensity_FD = np.abs(pulse.AW[(E_eV>0)])**2\n",
    "\n",
    "plt.figure(figsize=(370/50, 195/50))\n",
    "plt.plot(E_eV[E_eV > 0], intensity_FD, color='blue', linestyle='dashed', linewidth=2)\n",
    "\n",
    "plt.xlabel('Photon energy (eV)')\n",
    "plt.ylabel('Spectral power density (W/eV)')\n",
    "plt.xlim(0,18.5)\n",
    "plt.ylim(1e-15,1e5)\n",
    "plt.yscale('log')\n",
    "\n",
    "HHGs = [1.2 * (i+1) for i in range(15)]\n",
    "for HHG in HHGs:\n",
    "    plt.axvline(x=HHG, color='g', linestyle='--')\n",
    "\n",
    "plt.grid()\n",
    "plt.tight_layout()\n",
    "plt.show()"
   ]
  },
  {
   "cell_type": "markdown",
   "id": "6290e936-3bb6-4209-8c82-d11873b119a6",
   "metadata": {},
   "source": [
    "When gas absent and only fundamental pulse input into fiber, the following quantities are almost conserved:"
   ]
  },
  {
   "cell_type": "code",
   "execution_count": 12,
   "id": "e5c29ed7-1e81-470e-bd3d-a0375d2f84bb",
   "metadata": {},
   "outputs": [
    {
     "name": "stdout",
     "output_type": "stream",
     "text": [
      "[2.87508361e+04 2.87996464e+04 2.88485393e+04 ... 4.86727341e-19\n",
      " 4.86070818e-19 4.85907928e-19] 26197490004.308537\n"
     ]
    }
   ],
   "source": [
    "print(np.abs(pulse_FD.AT[(E_eV>0)])**2, np.trapz(np.abs(pulse_FD.AT[(E_eV>0)])**2))"
   ]
  },
  {
   "cell_type": "code",
   "execution_count": 13,
   "id": "be5f686e-be7c-4438-a006-26ff5b44be49",
   "metadata": {},
   "outputs": [
    {
     "name": "stdout",
     "output_type": "stream",
     "text": [
      "[2.87508361e+04 2.87996464e+04 2.88485393e+04 ... 5.90033308e-19\n",
      " 6.12561688e-19 5.44504628e-19] 26197490004.309658\n"
     ]
    }
   ],
   "source": [
    "print(np.abs(pulse_out.AT[(E_eV>0)])**2, np.trapz(np.abs(pulse_out.AT[(E_eV>0)])**2))"
   ]
  },
  {
   "cell_type": "code",
   "execution_count": 14,
   "id": "dd9692d9-8dbc-4a92-bd32-fed6881cbec4",
   "metadata": {},
   "outputs": [
    {
     "name": "stdout",
     "output_type": "stream",
     "text": [
      "[6.49299010e-32 7.89762765e-30 2.40822339e-30 ... 3.13073806e-31\n",
      " 6.25860372e-31 3.03005288e-31] 400000.00000000006\n"
     ]
    }
   ],
   "source": [
    "print(np.abs(pulse_FD.AW[(E_eV>0)])**2, np.trapz(np.abs(pulse_FD.AW[(E_eV>0)])**2))"
   ]
  },
  {
   "cell_type": "code",
   "execution_count": 15,
   "id": "3f2af624-e530-432f-b4be-0434ed4a40d7",
   "metadata": {},
   "outputs": [
    {
     "name": "stdout",
     "output_type": "stream",
     "text": [
      "[1.55324404e-28 3.13494251e-28 2.04045235e-27 ... 1.30840652e-27\n",
      " 3.53020397e-27 2.82124561e-27] 400000.0000000172\n"
     ]
    }
   ],
   "source": [
    "print(np.abs(pulse_out.AW[(E_eV>0)])**2, np.trapz(np.abs(pulse_out.AW[(E_eV>0)])**2))"
   ]
  },
  {
   "cell_type": "markdown",
   "id": "9cd4e3d1-d727-4879-80e0-037678583c5f",
   "metadata": {},
   "source": [
    "The pulse energy is calculated by:"
   ]
  },
  {
   "cell_type": "code",
   "execution_count": 16,
   "id": "64a67e20-28a0-4761-95cc-185a6a8a0ddd",
   "metadata": {},
   "outputs": [
    {
     "name": "stdout",
     "output_type": "stream",
     "text": [
      "1.9999999999999995e-06 1.9999999999999995e-06\n"
     ]
    }
   ],
   "source": [
    "print(pulse_FD.calc_epp(), pulse_FD.dT_mks * np.trapz(np.abs(pulse_FD.AT)**2))"
   ]
  },
  {
   "cell_type": "code",
   "execution_count": 17,
   "id": "d9b4e1af-b3d5-49bf-9d55-a7c5c052587b",
   "metadata": {},
   "outputs": [
    {
     "name": "stdout",
     "output_type": "stream",
     "text": [
      "2.000000000000086e-06 2.000000000000086e-06\n"
     ]
    }
   ],
   "source": [
    "print(pulse_out.calc_epp(), pulse_out.dT_mks * np.trapz(np.abs(pulse_out.AT)**2))"
   ]
  },
  {
   "cell_type": "markdown",
   "id": "606c0fc7-59d2-4ca0-8952-4cd57c063acd",
   "metadata": {},
   "source": [
    "Thus, `np.trapz(np.abs(pulse_out.AT)**2)` and `np.abs(pulse_out.AT)**2` are in [W]"
   ]
  },
  {
   "cell_type": "code",
   "execution_count": 18,
   "id": "09a7c436-ca8b-49dc-8aa1-599f1795938f",
   "metadata": {},
   "outputs": [
    {
     "name": "stdout",
     "output_type": "stream",
     "text": [
      "26214399999.999996 [4.84403222e-19 4.85929684e-19 4.86136631e-19 ... 4.86727341e-19\n",
      " 4.86070818e-19 4.85907928e-19]\n"
     ]
    }
   ],
   "source": [
    "print(np.trapz(np.abs(pulse_FD.AT)**2), np.abs(pulse_FD.AT)**2)"
   ]
  },
  {
   "cell_type": "code",
   "execution_count": 19,
   "id": "db09fe0a-2994-4df2-bca6-ec56d7614beb",
   "metadata": {},
   "outputs": [
    {
     "name": "stdout",
     "output_type": "stream",
     "text": [
      "26214400000.001125 [4.79352457e-19 4.97520394e-19 5.25617031e-19 ... 5.90033308e-19\n",
      " 6.12561688e-19 5.44504628e-19]\n"
     ]
    }
   ],
   "source": [
    "print(np.trapz(np.abs(pulse_out.AT)**2), np.abs(pulse_out.AT)**2)"
   ]
  },
  {
   "cell_type": "markdown",
   "id": "41de5123-c91c-4bfb-84cb-1002afa08452",
   "metadata": {},
   "source": [
    "Average power is in [W] and is $P_{avg} = \\frac{E}{\\Delta t} = E \\times f_{rep}$:"
   ]
  },
  {
   "cell_type": "code",
   "execution_count": 20,
   "id": "a7143199-a33d-43a9-8f33-e1a9a230e2f9",
   "metadata": {},
   "outputs": [
    {
     "name": "stdout",
     "output_type": "stream",
     "text": [
      "1.9999999999999996 2.0000000000000857\n"
     ]
    }
   ],
   "source": [
    "P_avg_FD = pulse_FD.calc_epp() * pulse_FD.frep_mks\n",
    "P_avg_out = pulse_out.calc_epp() * pulse_out.frep_mks\n",
    "print(P_avg_FD, P_avg_out)\n"
   ]
  },
  {
   "cell_type": "markdown",
   "id": "e6fcb186-25a7-454b-ad0e-e8e9649f1afa",
   "metadata": {},
   "source": [
    "Input fundamental pulse has EPP of 2e-6J and repetition rate of 1MHz, resulting in average power of 2W too, confirming above."
   ]
  },
  {
   "cell_type": "markdown",
   "id": "72256866-1a62-4081-9208-e92f0e8de9e7",
   "metadata": {},
   "source": [
    "`Window` is 5ps, `Points` is 2^16, `dT_ps` is `Window`/`Points`"
   ]
  },
  {
   "cell_type": "code",
   "execution_count": 21,
   "id": "512eebec-700b-4eee-81dd-a1b9eb2fd893",
   "metadata": {},
   "outputs": [
    {
     "name": "stdout",
     "output_type": "stream",
     "text": [
      "7.62939453125e-05 7.62939453125e-05\n"
     ]
    }
   ],
   "source": [
    "print(Window/Points, pulse_FD.dT_ps)"
   ]
  },
  {
   "cell_type": "markdown",
   "id": "30185561-ed5d-4f38-a194-8445da0cd88f",
   "metadata": {},
   "source": [
    "`dF_THz` is 1/`Window`"
   ]
  },
  {
   "cell_type": "code",
   "execution_count": 22,
   "id": "dfc9069b-ff2d-4ab3-9faf-138b9a6e8ccc",
   "metadata": {},
   "outputs": [
    {
     "name": "stdout",
     "output_type": "stream",
     "text": [
      "0.2 0.20000000000013685\n"
     ]
    }
   ],
   "source": [
    "print(1/Window, pulse_FD.dF_THz)"
   ]
  },
  {
   "cell_type": "markdown",
   "id": "15844ed7-2eba-4a10-92fa-47e4349c8309",
   "metadata": {},
   "source": [
    "The pulse energy is also calculated by:"
   ]
  },
  {
   "cell_type": "code",
   "execution_count": 24,
   "id": "4acbd33a-46e8-4d04-b688-9790640f738f",
   "metadata": {},
   "outputs": [
    {
     "name": "stdout",
     "output_type": "stream",
     "text": [
      "1.9999999999998678e-06\n"
     ]
    }
   ],
   "source": [
    "print(np.trapz(np.abs(pulse_FD.AW)**2) / pulse_FD.dF_mks)"
   ]
  },
  {
   "cell_type": "code",
   "execution_count": 32,
   "id": "02af8639-ee6d-4205-94af-2a90efcda15f",
   "metadata": {},
   "outputs": [
    {
     "name": "stdout",
     "output_type": "stream",
     "text": [
      "1.9999999999999597e-06\n"
     ]
    }
   ],
   "source": [
    "print(np.trapz(np.abs(pulse_out.AW)**2) / pulse_out.dF_mks)"
   ]
  },
  {
   "cell_type": "markdown",
   "id": "95e73b31-7ddc-4bed-b212-ce9dd95106f5",
   "metadata": {},
   "source": [
    "Thus, np.trapz(np.abs(pulse_out.AW)**2) and np.abs(pulse_out.AW)**2 are also in [W]"
   ]
  },
  {
   "cell_type": "code",
   "execution_count": 33,
   "id": "d454505c-fb04-4a6d-a2b3-7c883c66bbce",
   "metadata": {},
   "outputs": [
    {
     "name": "stdout",
     "output_type": "stream",
     "text": [
      "399999.99999999994 [1.81572377e-32 1.52584568e-31 3.40661038e-31 ... 3.13073806e-31\n",
      " 6.25860372e-31 3.03005288e-31]\n"
     ]
    }
   ],
   "source": [
    "print(np.trapz(np.abs(pulse_FD.AW)**2), np.abs(pulse_FD.AW)**2)"
   ]
  },
  {
   "cell_type": "code",
   "execution_count": 34,
   "id": "e1ccca26-e07e-4a1f-a9be-9b9b5eb9ce8d",
   "metadata": {},
   "outputs": [
    {
     "name": "stdout",
     "output_type": "stream",
     "text": [
      "400000.00000001834 [9.93123118e-29 8.66230082e-28 1.62500105e-27 ... 7.94632323e-28\n",
      " 1.83476823e-27 2.49710606e-27]\n"
     ]
    }
   ],
   "source": [
    "print(np.trapz(np.abs(pulse_out.AW)**2), np.abs(pulse_out.AW)**2)"
   ]
  },
  {
   "cell_type": "markdown",
   "id": "1ff79809-7d1e-4765-a162-516c6c5a2946",
   "metadata": {},
   "source": [
    "Peak pulse power is in [W] and is $P_{peak} = \\frac{E}{\\tau}$:"
   ]
  },
  {
   "cell_type": "code",
   "execution_count": 36,
   "id": "10004a7c-ec25-42bd-b6a3-1bc558fe172e",
   "metadata": {},
   "outputs": [
    {
     "name": "stdout",
     "output_type": "stream",
     "text": [
      "12506870.22900763 12506870.229008205\n"
     ]
    }
   ],
   "source": [
    "P_peak_FD = pulse_FD.calc_epp() / (calc_FWHM(pulse_FD)*1e-12)\n",
    "P_peak_out = pulse_out.calc_epp() / (calc_FWHM(pulse_out)*1e-12)\n",
    "print(P_peak_FD, P_peak_out)\n"
   ]
  },
  {
   "cell_type": "markdown",
   "id": "a839fc6d-68f5-412a-99d1-f4cc68f1bd15",
   "metadata": {},
   "source": [
    "Input fundamental pulse has EPP of 2e-6J and FWHM of 0.16ps, resulting in peak power of 1.25e7W too, confirming above."
   ]
  },
  {
   "cell_type": "code",
   "execution_count": null,
   "id": "d4a741c4-fffd-40b4-983f-b6c6cc349f7d",
   "metadata": {},
   "outputs": [],
   "source": []
  }
 ],
 "metadata": {
  "kernelspec": {
   "display_name": "Python 3 (ipykernel)",
   "language": "python",
   "name": "python3"
  },
  "language_info": {
   "codemirror_mode": {
    "name": "ipython",
    "version": 3
   },
   "file_extension": ".py",
   "mimetype": "text/x-python",
   "name": "python",
   "nbconvert_exporter": "python",
   "pygments_lexer": "ipython3",
   "version": "3.11.9"
  }
 },
 "nbformat": 4,
 "nbformat_minor": 5
}
