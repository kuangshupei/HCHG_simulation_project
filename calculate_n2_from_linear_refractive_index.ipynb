{
 "cells": [
  {
   "cell_type": "code",
   "execution_count": 2,
   "id": "35a86c83-5d6f-4b62-a79e-0bb5fe4f3fa3",
   "metadata": {},
   "outputs": [],
   "source": [
    "import scipy\n",
    "import sympy as sp"
   ]
  },
  {
   "cell_type": "code",
   "execution_count": 3,
   "id": "6d093529-dd84-4f2c-be49-c3410b1201e1",
   "metadata": {},
   "outputs": [],
   "source": [
    "def calculate_gdd_tod(n_lambda_func, lambda_value):\n",
    "    \n",
    "    c = scipy.constants.c\n",
    "    \n",
    "    lambda_ = sp.symbols('lambda')\n",
    "\n",
    "    d2n_dlambda2 = sp.diff(n_lambda_func, lambda_, 2)\n",
    "    d3n_dlambda3 = sp.diff(d2n_dlambda2, lambda_)\n",
    "\n",
    "    d2n_dlambda2_at_lambda = d2n_dlambda2.evalf(subs={lambda_: lambda_value})\n",
    "    d3n_dlambda3_at_lambda = d3n_dlambda3.evalf(subs={lambda_: lambda_value})\n",
    "\n",
    "    GDD = (1 / c) * ((lambda_value / (2 * sp.pi * c)) * (lambda_value**2 * d2n_dlambda2_at_lambda))\n",
    "\n",
    "    GDD_numeric = GDD.evalf()\n",
    "    GDD_fs2_per_cm = GDD_numeric * 1e30 * 1e-2\n",
    "\n",
    "    TOD = - (1 / c) * ((lambda_value / (2 * sp.pi * c))**2) * (3 * lambda_value**2 * d2n_dlambda2_at_lambda + lambda_value**3 * d3n_dlambda3_at_lambda)\n",
    "\n",
    "    TOD_numeric = TOD.evalf()\n",
    "    TOD_fs3_per_cm = TOD_numeric * 1e45 * 1e-2\n",
    "\n",
    "    return GDD_fs2_per_cm, TOD_fs3_per_cm"
   ]
  },
  {
   "cell_type": "code",
   "execution_count": 4,
   "id": "563d866d-7eef-4b50-aa4d-13470c7190bb",
   "metadata": {},
   "outputs": [],
   "source": [
    "def calculate_gdd_tod_for_gas(gas, lambda_value):\n",
    "    n_lambda_func = refractive_index_functions[gas]\n",
    "    GDD, TOD = calculate_gdd_tod(n_lambda_func, lambda_value)\n",
    "    return GDD, TOD"
   ]
  },
  {
   "cell_type": "code",
   "execution_count": 5,
   "id": "62d1b227-6bd0-447b-9d53-3d4921f90b4a",
   "metadata": {},
   "outputs": [],
   "source": [
    "lambda_ = sp.symbols('lambda')\n",
    "\n",
    "refractive_index_functions = {}\n",
    "\n",
    "# refractive index function for Xenon\n",
    "refractive_index_functions['xenon'] = sp.sqrt(1 + 1.366e-3 * (\n",
    "    1 + (9.02e5 / (lambda_ * 1e10)**2) +\n",
    "    (1.81e12 / (lambda_ * 1e10)**4) +\n",
    "    (4.89e18 / (lambda_ * 1e10)**6) +\n",
    "    (1.45e25 / (lambda_ * 1e10)**8) +\n",
    "    (4.34e31 / (lambda_ * 1e10)**10)\n",
    "))\n",
    "\n",
    "# refractive index function for Krypton\n",
    "refractive_index_functions['krypton'] = sp.sqrt(1 + 8.377e-4 * (\n",
    "    1 + (6.70e5 / (lambda_ * 1e10)**2) +\n",
    "    (8.84e11 / (lambda_ * 1e10)**4) +\n",
    "    (1.49e18 / (lambda_ * 1e10)**6) +\n",
    "    (2.74e24 / (lambda_ * 1e10)**8) +\n",
    "    (5.10e30 / (lambda_ * 1e10)**10)\n",
    "))\n",
    "\n",
    "# refractive index function for Argon\n",
    "refractive_index_functions['argon'] = sp.sqrt(1 + 5.547e-4 * (\n",
    "    1 + (5.15e5 / (lambda_ * 1e10)**2) +\n",
    "    (4.19e11 / (lambda_ * 1e10)**4) +\n",
    "    (4.09e17 / (lambda_ * 1e10)**6) +\n",
    "    (4.32e23 / (lambda_ * 1e10)**8)\n",
    "))\n",
    "\n",
    "# refractive index function for Neon\n",
    "refractive_index_functions['neon'] = sp.sqrt(1 + 1.335e-4 * (\n",
    "    1 + (2.24e5 / (lambda_ * 1e10)**2) +\n",
    "    (8.09e10 / (lambda_ * 1e10)**4) +\n",
    "    (3.56e16 / (lambda_ * 1e10)**6)\n",
    "))"
   ]
  },
  {
   "cell_type": "code",
   "execution_count": 6,
   "id": "a5f9f553-b333-4e38-b1b6-e150fdae2c23",
   "metadata": {},
   "outputs": [
    {
     "name": "stdout",
     "output_type": "stream",
     "text": [
      "GDD for Xenon at 8e-07 m: 0.911317325126575 fs^2/cm\n",
      "TOD for Xenon at 8e-07 m: 0.474164451261917 fs^3/cm\n"
     ]
    }
   ],
   "source": [
    "lambda_value_example = 800e-9\n",
    "GDD_xenon, TOD_xenon = calculate_gdd_tod_for_gas('xenon', lambda_value_example)\n",
    "\n",
    "print(f\"GDD for Xenon at {lambda_value_example} m: {GDD_xenon} fs^2/cm\")\n",
    "print(f\"TOD for Xenon at {lambda_value_example} m: {TOD_xenon} fs^3/cm\")"
   ]
  },
  {
   "cell_type": "code",
   "execution_count": null,
   "id": "5bd018aa-b8e2-49e1-b720-ef2caa445035",
   "metadata": {},
   "outputs": [],
   "source": []
  }
 ],
 "metadata": {
  "kernelspec": {
   "display_name": "Python 3 (ipykernel)",
   "language": "python",
   "name": "python3"
  },
  "language_info": {
   "codemirror_mode": {
    "name": "ipython",
    "version": 3
   },
   "file_extension": ".py",
   "mimetype": "text/x-python",
   "name": "python",
   "nbconvert_exporter": "python",
   "pygments_lexer": "ipython3",
   "version": "3.11.9"
  }
 },
 "nbformat": 4,
 "nbformat_minor": 5
}
